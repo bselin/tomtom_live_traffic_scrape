{
 "cells": [
  {
   "cell_type": "markdown",
   "metadata": {},
   "source": [
    "## TomTom Live Traffic Index Scrape"
   ]
  },
  {
   "cell_type": "markdown",
   "metadata": {},
   "source": [
    "This code retrieves the live traffic json from TomTom, and cleans this data to replicate the live chart shown on the webpage."
   ]
  },
  {
   "cell_type": "code",
   "execution_count": 12,
   "metadata": {},
   "outputs": [],
   "source": [
    "%matplotlib inline\n",
    "import matplotlib.pyplot as plt\n",
    "import pandas as pd\n",
    "import json\n",
    "import requests\n",
    "\n",
    "# retrieve json file\n",
    "url_it = \"https://api.midway.tomtom.com/ranking/live/ITA_milan\"\n",
    "italy_req = requests.get(url_it)\n",
    "italy_json = italy_req.json()\n",
    "\n",
    "pd.set_option(\"display.max_rows\", False)\n"
   ]
  },
  {
   "cell_type": "code",
   "execution_count": 3,
   "metadata": {
    "scrolled": true
   },
   "outputs": [
    {
     "data": {
      "text/html": [
       "<div>\n",
       "<style scoped>\n",
       "    .dataframe tbody tr th:only-of-type {\n",
       "        vertical-align: middle;\n",
       "    }\n",
       "\n",
       "    .dataframe tbody tr th {\n",
       "        vertical-align: top;\n",
       "    }\n",
       "\n",
       "    .dataframe thead th {\n",
       "        text-align: right;\n",
       "    }\n",
       "</style>\n",
       "<table border=\"1\" class=\"dataframe\">\n",
       "  <thead>\n",
       "    <tr style=\"text-align: right;\">\n",
       "      <th></th>\n",
       "      <th>Live Traffic</th>\n",
       "      <th>2019 Average</th>\n",
       "    </tr>\n",
       "    <tr>\n",
       "      <th>Time</th>\n",
       "      <th></th>\n",
       "      <th></th>\n",
       "    </tr>\n",
       "  </thead>\n",
       "  <tbody>\n",
       "    <tr>\n",
       "      <th>2020-04-11 13:31:30.000</th>\n",
       "      <td>7</td>\n",
       "      <td>18</td>\n",
       "    </tr>\n",
       "    <tr>\n",
       "      <th>2020-04-11 13:46:30.000</th>\n",
       "      <td>7</td>\n",
       "      <td>19</td>\n",
       "    </tr>\n",
       "    <tr>\n",
       "      <th>2020-04-11 14:01:30.001</th>\n",
       "      <td>7</td>\n",
       "      <td>19</td>\n",
       "    </tr>\n",
       "    <tr>\n",
       "      <th>2020-04-11 14:16:30.000</th>\n",
       "      <td>7</td>\n",
       "      <td>20</td>\n",
       "    </tr>\n",
       "    <tr>\n",
       "      <th>2020-04-11 14:46:30.000</th>\n",
       "      <td>9</td>\n",
       "      <td>22</td>\n",
       "    </tr>\n",
       "  </tbody>\n",
       "</table>\n",
       "</div>"
      ],
      "text/plain": [
       "                         Live Traffic\n",
       "Time                                  \n",
       "2020-04-11 13:31:30.000             7\n",
       "2020-04-11 13:46:30.000             7\n",
       "2020-04-11 14:01:30.001             7\n",
       "2020-04-11 14:16:30.000             7\n",
       "2020-04-11 14:46:30.000             9"
      ]
     },
     "execution_count": 3,
     "metadata": {},
     "output_type": "execute_result"
    }
   ],
   "source": [
    "# create empty lists of append data\n",
    "live_traffic = []\n",
    "historic_traffic = []\n",
    "time = []\n",
    "\n",
    "count = len(italy_json[\"data\"])-1\n",
    "\n",
    "# append each item in the json file to the empty lists\n",
    "i=0\n",
    "while i<=count:\n",
    "    live_traffic.append(italy_json[\"data\"][i][\"TrafficIndexLive\"])\n",
      "    time.append(italy_json[\"data\"][i][\"UpdateTime\"])\n",
    "    i+=1\n",
    "    \n",
    "# create dataframe with the traffic data \n",
    "df = pd.DataFrame({\"Live Traffic\":live_traffic}, index=time)\n",
    "df.index = pd.to_datetime(df.index, unit=\"ms\")\n",
    "df.index.name = \"Time\"\n",
    "df.head()"
   ]
  },
  {
   "cell_type": "code",
   "execution_count": 6,
   "metadata": {},
   "outputs": [
    {
     "data": {
      "text/plain": [
       "<matplotlib.legend.Legend at 0x22daf93a828>"
      ]
     },
     "execution_count": 6,
     "metadata": {},
     "output_type": "execute_result"
    },
         "metadata": {},
     "output_type": "display_data"
    }
   ],
   "source": [
    "plt.style.use(\"seaborn\")\n",
    "ax = df.plot()\n",
    "plt.title(\"Italy Traffic\")\n",
    "plt.legend(loc=2)\n",
    "#plt.box(False)"
   ]
  },
  {
   "cell_type": "code",
   "execution_count": 75,
   "metadata": {},
   "outputs": [],
   "source": [
    "df.to_excel(\"tomtom.xlsx\")"
   ]
  }
 ],
 "metadata": {
  "kernelspec": {
   "display_name": "Python 3",
   "language": "python",
   "name": "python3"
  }
 },
 "nbformat": 4,
 "nbformat_minor": 2
}
